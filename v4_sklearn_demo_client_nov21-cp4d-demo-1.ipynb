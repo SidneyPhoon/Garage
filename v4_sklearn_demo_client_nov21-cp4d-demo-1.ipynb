{
 "cells": [
  {
   "cell_type": "markdown",
   "metadata": {},
   "source": [
    "# V4 Scikit-Learn Training, Saving and WML Online Deployment and Scoring\n"
   ]
  },
  {
   "cell_type": "code",
   "execution_count": null,
   "metadata": {},
   "outputs": [],
   "source": []
  },
  {
   "cell_type": "markdown",
   "metadata": {},
   "source": [
    "!pip install watson-machine-learning-client-v4"
   ]
  },
  {
   "cell_type": "code",
   "execution_count": 54,
   "metadata": {},
   "outputs": [
    {
     "name": "stdout",
     "output_type": "stream",
     "text": [
      "--2019-11-21 16:49:16--  http://archive.ics.uci.edu/ml/machine-learning-databases/heart-disease/processed.cleveland.data\n",
      "Resolving archive.ics.uci.edu (archive.ics.uci.edu)... 128.195.10.252\n",
      "Connecting to archive.ics.uci.edu (archive.ics.uci.edu)|128.195.10.252|:80... connected.\n",
      "HTTP request sent, awaiting response... 200 OK\n",
      "Length: 18461 (18K) [application/x-httpd-php]\n",
      "Saving to: 'processed.cleveland.data'\n",
      "\n",
      "100%[======================================>] 18,461      --.-K/s   in 0.07s   \n",
      "\n",
      "2019-11-21 16:49:16 (258 KB/s) - 'processed.cleveland.data' saved [18461/18461]\n",
      "\n"
     ]
    }
   ],
   "source": [
    "!wget http://archive.ics.uci.edu/ml/machine-learning-databases/heart-disease/processed.cleveland.data -O processed.cleveland.data"
   ]
  },
  {
   "cell_type": "code",
   "execution_count": 55,
   "metadata": {},
   "outputs": [
    {
     "name": "stdout",
     "output_type": "stream",
     "text": [
      "Requirement already satisfied: sklearn-pandas in /opt/conda/envs/Python-3.6/lib/python3.6/site-packages (1.8.0)\r\n",
      "Requirement already satisfied: scipy>=0.14 in /opt/conda/envs/Python-3.6/lib/python3.6/site-packages (from sklearn-pandas) (1.2.0)\r\n",
      "Requirement already satisfied: scikit-learn>=0.15.0 in /opt/conda/envs/Python-3.6/lib/python3.6/site-packages (from sklearn-pandas) (0.20.3)\r\n",
      "Requirement already satisfied: numpy>=1.6.1 in /opt/conda/envs/Python-3.6/lib/python3.6/site-packages (from sklearn-pandas) (1.15.4)\r\n",
      "Requirement already satisfied: pandas>=0.11.0 in /opt/conda/envs/Python-3.6/lib/python3.6/site-packages (from sklearn-pandas) (0.24.1)\r\n",
      "Requirement already satisfied: python-dateutil>=2.5.0 in /opt/conda/envs/Python-3.6/lib/python3.6/site-packages (from pandas>=0.11.0->sklearn-pandas) (2.7.5)\r\n",
      "Requirement already satisfied: pytz>=2011k in /opt/conda/envs/Python-3.6/lib/python3.6/site-packages (from pandas>=0.11.0->sklearn-pandas) (2018.9)\r\n",
      "Requirement already satisfied: six>=1.5 in /opt/conda/envs/Python-3.6/lib/python3.6/site-packages (from python-dateutil>=2.5.0->pandas>=0.11.0->sklearn-pandas) (1.12.0)\r\n"
     ]
    }
   ],
   "source": [
    "!pip install sklearn-pandas"
   ]
  },
  {
   "cell_type": "markdown",
   "metadata": {},
   "source": [
    "## 1.0 Model training"
   ]
  },
  {
   "cell_type": "code",
   "execution_count": 77,
   "metadata": {},
   "outputs": [],
   "source": [
    "from sklearn.model_selection import train_test_split\n",
    "from sklearn.metrics import accuracy_score\n",
    "from sklearn.linear_model import LogisticRegression\n",
    "\n",
    "import numpy as np\n",
    "from pprint import pprint\n",
    "\n",
    "import pandas as pd\n",
    "import time"
   ]
  },
  {
   "cell_type": "code",
   "execution_count": 78,
   "metadata": {},
   "outputs": [],
   "source": [
    "ClevelandDataSet = \"processed.cleveland.data\""
   ]
  },
  {
   "cell_type": "code",
   "execution_count": 79,
   "metadata": {},
   "outputs": [
    {
     "data": {
      "text/html": [
       "<div>\n",
       "<style scoped>\n",
       "    .dataframe tbody tr th:only-of-type {\n",
       "        vertical-align: middle;\n",
       "    }\n",
       "\n",
       "    .dataframe tbody tr th {\n",
       "        vertical-align: top;\n",
       "    }\n",
       "\n",
       "    .dataframe thead th {\n",
       "        text-align: right;\n",
       "    }\n",
       "</style>\n",
       "<table border=\"1\" class=\"dataframe\">\n",
       "  <thead>\n",
       "    <tr style=\"text-align: right;\">\n",
       "      <th></th>\n",
       "      <th>age</th>\n",
       "      <th>sex</th>\n",
       "      <th>cp</th>\n",
       "      <th>restbp</th>\n",
       "      <th>chol</th>\n",
       "      <th>fbs</th>\n",
       "      <th>restecg</th>\n",
       "      <th>thalach</th>\n",
       "      <th>exang</th>\n",
       "      <th>oldpeak</th>\n",
       "      <th>slope</th>\n",
       "      <th>ca</th>\n",
       "      <th>thal</th>\n",
       "      <th>num</th>\n",
       "    </tr>\n",
       "  </thead>\n",
       "  <tbody>\n",
       "    <tr>\n",
       "      <th>0</th>\n",
       "      <td>63.0</td>\n",
       "      <td>1.0</td>\n",
       "      <td>1.0</td>\n",
       "      <td>145.0</td>\n",
       "      <td>233.0</td>\n",
       "      <td>1.0</td>\n",
       "      <td>2.0</td>\n",
       "      <td>150.0</td>\n",
       "      <td>0.0</td>\n",
       "      <td>2.3</td>\n",
       "      <td>3.0</td>\n",
       "      <td>0.0</td>\n",
       "      <td>6.0</td>\n",
       "      <td>0</td>\n",
       "    </tr>\n",
       "    <tr>\n",
       "      <th>1</th>\n",
       "      <td>67.0</td>\n",
       "      <td>1.0</td>\n",
       "      <td>4.0</td>\n",
       "      <td>160.0</td>\n",
       "      <td>286.0</td>\n",
       "      <td>0.0</td>\n",
       "      <td>2.0</td>\n",
       "      <td>108.0</td>\n",
       "      <td>1.0</td>\n",
       "      <td>1.5</td>\n",
       "      <td>2.0</td>\n",
       "      <td>3.0</td>\n",
       "      <td>3.0</td>\n",
       "      <td>2</td>\n",
       "    </tr>\n",
       "    <tr>\n",
       "      <th>2</th>\n",
       "      <td>67.0</td>\n",
       "      <td>1.0</td>\n",
       "      <td>4.0</td>\n",
       "      <td>120.0</td>\n",
       "      <td>229.0</td>\n",
       "      <td>0.0</td>\n",
       "      <td>2.0</td>\n",
       "      <td>129.0</td>\n",
       "      <td>1.0</td>\n",
       "      <td>2.6</td>\n",
       "      <td>2.0</td>\n",
       "      <td>2.0</td>\n",
       "      <td>7.0</td>\n",
       "      <td>1</td>\n",
       "    </tr>\n",
       "    <tr>\n",
       "      <th>3</th>\n",
       "      <td>37.0</td>\n",
       "      <td>1.0</td>\n",
       "      <td>3.0</td>\n",
       "      <td>130.0</td>\n",
       "      <td>250.0</td>\n",
       "      <td>0.0</td>\n",
       "      <td>0.0</td>\n",
       "      <td>187.0</td>\n",
       "      <td>0.0</td>\n",
       "      <td>3.5</td>\n",
       "      <td>3.0</td>\n",
       "      <td>0.0</td>\n",
       "      <td>3.0</td>\n",
       "      <td>0</td>\n",
       "    </tr>\n",
       "    <tr>\n",
       "      <th>4</th>\n",
       "      <td>41.0</td>\n",
       "      <td>0.0</td>\n",
       "      <td>2.0</td>\n",
       "      <td>130.0</td>\n",
       "      <td>204.0</td>\n",
       "      <td>0.0</td>\n",
       "      <td>2.0</td>\n",
       "      <td>172.0</td>\n",
       "      <td>0.0</td>\n",
       "      <td>1.4</td>\n",
       "      <td>1.0</td>\n",
       "      <td>0.0</td>\n",
       "      <td>3.0</td>\n",
       "      <td>0</td>\n",
       "    </tr>\n",
       "  </tbody>\n",
       "</table>\n",
       "</div>"
      ],
      "text/plain": [
       "    age  sex   cp  restbp   chol  fbs  restecg  thalach  exang  oldpeak  \\\n",
       "0  63.0  1.0  1.0   145.0  233.0  1.0      2.0    150.0    0.0      2.3   \n",
       "1  67.0  1.0  4.0   160.0  286.0  0.0      2.0    108.0    1.0      1.5   \n",
       "2  67.0  1.0  4.0   120.0  229.0  0.0      2.0    129.0    1.0      2.6   \n",
       "3  37.0  1.0  3.0   130.0  250.0  0.0      0.0    187.0    0.0      3.5   \n",
       "4  41.0  0.0  2.0   130.0  204.0  0.0      2.0    172.0    0.0      1.4   \n",
       "\n",
       "   slope   ca  thal  num  \n",
       "0    3.0  0.0   6.0    0  \n",
       "1    2.0  3.0   3.0    2  \n",
       "2    2.0  2.0   7.0    1  \n",
       "3    3.0  0.0   3.0    0  \n",
       "4    1.0  0.0   3.0    0  "
      ]
     },
     "execution_count": 79,
     "metadata": {},
     "output_type": "execute_result"
    }
   ],
   "source": [
    "col_names = ['age','sex','cp','restbp','chol','fbs','restecg','thalach','exang','oldpeak','slope','ca','thal','num']\n",
    "\n",
    "heart_df = pd.read_csv(ClevelandDataSet, sep=',', header=None, names=col_names, na_filter= True, na_values= {'ca': '?', 'thal': '?'}).dropna()\n",
    "heart_df.head()"
   ]
  },
  {
   "cell_type": "code",
   "execution_count": 80,
   "metadata": {},
   "outputs": [],
   "source": [
    "# Create a new column which contains if a heart disease is diagnosed or not\n",
    "heart_df['diagnosed'] = heart_df['num'].map(lambda d: 1 if d > 0 else 0)"
   ]
  },
  {
   "cell_type": "code",
   "execution_count": 81,
   "metadata": {},
   "outputs": [],
   "source": [
    "from sklearn_pandas import DataFrameMapper\n",
    "from sklearn.preprocessing import MinMaxScaler\n",
    "from sklearn.linear_model import LogisticRegression\n",
    "from sklearn.pipeline import Pipeline\n",
    "\n",
    "feature_cols = heart_df.columns[:-2]\n",
    "steps = [\n",
    "    ('df_mapper', DataFrameMapper([\n",
    "        (feature_cols, MinMaxScaler(copy=True, feature_range=(0,1)))\n",
    "    ])),\n",
    "    ('lr_classifier', LogisticRegression())\n",
    "]\n",
    "skl_ppl = Pipeline(steps)\n",
    "features_df = heart_df[feature_cols]"
   ]
  },
  {
   "cell_type": "code",
   "execution_count": 82,
   "metadata": {},
   "outputs": [],
   "source": [
    "# Split Data\n",
    "heart_train, heart_test, target_train, target_test = train_test_split(features_df, heart_df.loc[:,'diagnosed'], test_size=0.33, random_state=0)"
   ]
  },
  {
   "cell_type": "code",
   "execution_count": 83,
   "metadata": {},
   "outputs": [
    {
     "data": {
      "text/plain": [
       "Pipeline(memory=None,\n",
       "     steps=[('df_mapper', DataFrameMapper(default=False, df_out=False,\n",
       "        features=[(Index(['age', 'sex', 'cp', 'restbp', 'chol', 'fbs', 'restecg', 'thalach',\n",
       "       'exang', 'oldpeak', 'slope', 'ca', 'thal'],\n",
       "      dtype='object'), MinMaxScaler(copy=True, feature_range=(0, 1)))],\n",
       "        input_df=F...penalty='l2', random_state=None, solver='warn',\n",
       "          tol=0.0001, verbose=0, warm_start=False))])"
      ]
     },
     "execution_count": 83,
     "metadata": {},
     "output_type": "execute_result"
    }
   ],
   "source": [
    "skl_ppl.fit(heart_train, target_train)"
   ]
  },
  {
   "cell_type": "code",
   "execution_count": 84,
   "metadata": {},
   "outputs": [],
   "source": [
    "y_output = skl_ppl.predict(heart_test)"
   ]
  },
  {
   "cell_type": "code",
   "execution_count": 85,
   "metadata": {},
   "outputs": [
    {
     "data": {
      "text/plain": [
       "0.8686868686868687"
      ]
     },
     "execution_count": 85,
     "metadata": {},
     "output_type": "execute_result"
    }
   ],
   "source": [
    "from sklearn.metrics import accuracy_score\n",
    "accuracy_score(y_output, target_test.values)"
   ]
  },
  {
   "cell_type": "markdown",
   "metadata": {},
   "source": [
    "# Initialize the wml python client"
   ]
  },
  {
   "cell_type": "code",
   "execution_count": 86,
   "metadata": {},
   "outputs": [],
   "source": [
    "import sys,os,os.path\n",
    "token = os.environ['USER_ACCESS_TOKEN']\n",
    "\n",
    "wml_credentials = {\n",
    "    \"token\" : token,\n",
    "    \"instance_id\" : \"wml_local\",\n",
    "    \"url\": \"https://wmlfinal-cpd-wmlfinal.apps.cp4dfvt-lb-1.fyre.ibm.com\",\n",
    "    \"version\": \"2.5.0\"\n",
    "}\n",
    "\n",
    "from watson_machine_learning_client import WatsonMachineLearningAPIClient\n",
    "\n",
    "client = WatsonMachineLearningAPIClient(wml_credentials)"
   ]
  },
  {
   "cell_type": "code",
   "execution_count": 87,
   "metadata": {},
   "outputs": [
    {
     "data": {
      "text/plain": [
       "{'metadata': {'role': 'Admin',\n",
       "  'guid': '684a7ad5-9fc3-4a87-9e68-eecc70d335fc',\n",
       "  'id': '684a7ad5-9fc3-4a87-9e68-eecc70d335fc',\n",
       "  'created_at': '2019-11-21T17:31:27.783Z',\n",
       "  'owner': '1000331006',\n",
       "  'href': '/v4/spaces/684a7ad5-9fc3-4a87-9e68-eecc70d335fc'},\n",
       " 'entity': {'name': 'myspace_deployment_demo',\n",
       "  'assets': {'experiments': [],\n",
       "   'pipelines': [],\n",
       "   'runtimes': [],\n",
       "   'libraries': [],\n",
       "   'data_references': [],\n",
       "   'models': [],\n",
       "   'functions': []}}}"
      ]
     },
     "execution_count": 87,
     "metadata": {},
     "output_type": "execute_result"
    }
   ],
   "source": [
    "space_meta = {\n",
    "                client.spaces.ConfigurationMetaNames.NAME:\"myspace_deployment_demo\",   \n",
    "             }\n",
    "spaces_details=client.spaces.store(space_meta)\n",
    "spaces_details"
   ]
  },
  {
   "cell_type": "code",
   "execution_count": 88,
   "metadata": {},
   "outputs": [
    {
     "name": "stdout",
     "output_type": "stream",
     "text": [
      "------------------------------------  ---------------------------------  ------------------------\n",
      "GUID                                  NAME                               CREATED\n",
      "684a7ad5-9fc3-4a87-9e68-eecc70d335fc  myspace_deployment_demo            2019-11-21T17:31:27.783Z\n",
      "0fb6633c-4d3f-4a13-ba29-398012541f78  myspace_deployment_for_asset_file  2019-11-21T12:21:08.430Z\n",
      "------------------------------------  ---------------------------------  ------------------------\n"
     ]
    }
   ],
   "source": [
    "client.spaces.list(limit=5)"
   ]
  },
  {
   "cell_type": "code",
   "execution_count": 89,
   "metadata": {},
   "outputs": [
    {
     "data": {
      "text/plain": [
       "'SUCCESS'"
      ]
     },
     "execution_count": 89,
     "metadata": {},
     "output_type": "execute_result"
    }
   ],
   "source": [
    "client.set.default_space(\"0fb6633c-4d3f-4a13-ba29-398012541f78\")"
   ]
  },
  {
   "cell_type": "code",
   "execution_count": 114,
   "metadata": {},
   "outputs": [
    {
     "name": "stdout",
     "output_type": "stream",
     "text": [
      "Unsetting the space_id ...\n"
     ]
    },
    {
     "data": {
      "text/plain": [
       "'SUCCESS'"
      ]
     },
     "execution_count": 114,
     "metadata": {},
     "output_type": "execute_result"
    }
   ],
   "source": [
    "project_id = os.environ['PROJECT_ID']\n",
    "client.set.default_project(project_id)"
   ]
  },
  {
   "cell_type": "markdown",
   "metadata": {},
   "source": [
    "## 2.0 Saving the model"
   ]
  },
  {
   "cell_type": "code",
   "execution_count": 116,
   "metadata": {},
   "outputs": [],
   "source": [
    "meta_props={\n",
    "     client.repository.ModelMetaNames.NAME: \"skl_pipeline_heart_problem_prediction-nov21-demo\",\n",
    "     client.repository.ModelMetaNames.RUNTIME_UID: \"scikit-learn_0.20-py3\",\n",
    "     client.repository.ModelMetaNames.TYPE: \"scikit-learn_0.20\"\n",
    "}\n",
    "\n",
    "\n",
    "model_artifact = client.repository.store_model(skl_ppl,\n",
    "                                                   meta_props=meta_props,\n",
    "                                                   training_data=heart_train,\n",
    "                                                   training_target=target_train)"
   ]
  },
  {
   "cell_type": "code",
   "execution_count": 117,
   "metadata": {},
   "outputs": [
    {
     "name": "stdout",
     "output_type": "stream",
     "text": [
      "Model UID = db7e4671-1275-4d82-b1b8-34213a43f353\n"
     ]
    }
   ],
   "source": [
    "model_uid = client.repository.get_model_uid(model_artifact)\n",
    "print(\"Model UID = \" + model_uid)"
   ]
  },
  {
   "cell_type": "code",
   "execution_count": 119,
   "metadata": {},
   "outputs": [
    {
     "name": "stdout",
     "output_type": "stream",
     "text": [
      "------------------------------------  ------------------------------------------------  ------------------------  -----------------\n",
      "GUID                                  NAME                                              CREATED                   TYPE\n",
      "db7e4671-1275-4d82-b1b8-34213a43f353  skl_pipeline_heart_problem_prediction-nov21-demo  2019-11-21T17:43:29.002Z  scikit-learn_0.20\n",
      "------------------------------------  ------------------------------------------------  ------------------------  -----------------\n"
     ]
    }
   ],
   "source": [
    "client.repository.list_models()"
   ]
  },
  {
   "cell_type": "markdown",
   "metadata": {},
   "source": [
    "# Deploy model for online scoring"
   ]
  },
  {
   "cell_type": "code",
   "execution_count": 93,
   "metadata": {},
   "outputs": [],
   "source": [
    "meta_props = {\n",
    "   client.deployments.ConfigurationMetaNames.NAME: \"v4_deploy_skl_ppl_nov21_demo\",\n",
    "   client.deployments.ConfigurationMetaNames.DESCRIPTION: \"v4_deploy_skl_ppl\",\n",
    "   client.deployments.ConfigurationMetaNames.ONLINE: {}\n",
    "}"
   ]
  },
  {
   "cell_type": "code",
   "execution_count": 94,
   "metadata": {},
   "outputs": [
    {
     "name": "stdout",
     "output_type": "stream",
     "text": [
      "\n",
      "\n",
      "#######################################################################################\n",
      "\n",
      "Synchronous deployment creation for uid: 'c393e3c2-77af-45e3-b86f-f72c0a794525' started\n",
      "\n",
      "#######################################################################################\n",
      "\n",
      "\n",
      "initializing\n",
      "ready\n",
      "\n",
      "\n",
      "------------------------------------------------------------------------------------------------\n",
      "Successfully finished deployment creation, deployment_uid='d7f74f5c-00d7-4eb3-8786-05accb0ef8cc'\n",
      "------------------------------------------------------------------------------------------------\n",
      "\n",
      "\n"
     ]
    }
   ],
   "source": [
    "deployment_details = client.deployments.create(model_uid, meta_props=meta_props)"
   ]
  },
  {
   "cell_type": "code",
   "execution_count": 95,
   "metadata": {},
   "outputs": [],
   "source": [
    "dep_id = client.deployments.get_uid(deployment_details)"
   ]
  },
  {
   "cell_type": "markdown",
   "metadata": {},
   "source": [
    "# Score the deployed online model"
   ]
  },
  {
   "cell_type": "code",
   "execution_count": 96,
   "metadata": {},
   "outputs": [],
   "source": [
    "scoring_payload = {\n",
    "    'fields': heart_test.columns.values.tolist(),\n",
    "    'values': heart_test.values.tolist()\n",
    "}"
   ]
  },
  {
   "cell_type": "code",
   "execution_count": 97,
   "metadata": {},
   "outputs": [
    {
     "data": {
      "text/plain": [
       "{'fields': ['age',\n",
       "  'sex',\n",
       "  'cp',\n",
       "  'restbp',\n",
       "  'chol',\n",
       "  'fbs',\n",
       "  'restecg',\n",
       "  'thalach',\n",
       "  'exang',\n",
       "  'oldpeak',\n",
       "  'slope',\n",
       "  'ca',\n",
       "  'thal'],\n",
       " 'values': [[52.0,\n",
       "   1.0,\n",
       "   1.0,\n",
       "   118.0,\n",
       "   186.0,\n",
       "   0.0,\n",
       "   2.0,\n",
       "   190.0,\n",
       "   0.0,\n",
       "   0.0,\n",
       "   2.0,\n",
       "   0.0,\n",
       "   6.0],\n",
       "  [42.0, 0.0, 4.0, 102.0, 265.0, 0.0, 2.0, 122.0, 0.0, 0.6, 2.0, 0.0, 3.0],\n",
       "  [56.0, 1.0, 3.0, 130.0, 256.0, 1.0, 2.0, 142.0, 1.0, 0.6, 2.0, 1.0, 6.0],\n",
       "  [59.0, 1.0, 4.0, 138.0, 271.0, 0.0, 2.0, 182.0, 0.0, 0.0, 1.0, 0.0, 3.0],\n",
       "  [59.0, 1.0, 2.0, 140.0, 221.0, 0.0, 0.0, 164.0, 1.0, 0.0, 1.0, 0.0, 3.0],\n",
       "  [44.0, 1.0, 4.0, 110.0, 197.0, 0.0, 2.0, 177.0, 0.0, 0.0, 1.0, 1.0, 3.0],\n",
       "  [38.0, 1.0, 1.0, 120.0, 231.0, 0.0, 0.0, 182.0, 1.0, 3.8, 2.0, 0.0, 7.0],\n",
       "  [62.0, 0.0, 4.0, 140.0, 394.0, 0.0, 2.0, 157.0, 0.0, 1.2, 2.0, 0.0, 3.0],\n",
       "  [69.0, 1.0, 3.0, 140.0, 254.0, 0.0, 2.0, 146.0, 0.0, 2.0, 2.0, 3.0, 7.0],\n",
       "  [46.0, 0.0, 4.0, 138.0, 243.0, 0.0, 2.0, 152.0, 1.0, 0.0, 2.0, 0.0, 3.0],\n",
       "  [65.0, 1.0, 4.0, 110.0, 248.0, 0.0, 2.0, 158.0, 0.0, 0.6, 1.0, 2.0, 6.0],\n",
       "  [57.0, 1.0, 3.0, 150.0, 168.0, 0.0, 0.0, 174.0, 0.0, 1.6, 1.0, 0.0, 3.0],\n",
       "  [66.0, 1.0, 4.0, 160.0, 228.0, 0.0, 2.0, 138.0, 0.0, 2.3, 1.0, 0.0, 6.0],\n",
       "  [57.0, 1.0, 3.0, 128.0, 229.0, 0.0, 2.0, 150.0, 0.0, 0.4, 2.0, 1.0, 7.0],\n",
       "  [58.0, 1.0, 2.0, 120.0, 284.0, 0.0, 2.0, 160.0, 0.0, 1.8, 2.0, 0.0, 3.0],\n",
       "  [67.0, 0.0, 3.0, 152.0, 277.0, 0.0, 0.0, 172.0, 0.0, 0.0, 1.0, 1.0, 3.0],\n",
       "  [61.0, 1.0, 4.0, 140.0, 207.0, 0.0, 2.0, 138.0, 1.0, 1.9, 1.0, 1.0, 7.0],\n",
       "  [51.0, 0.0, 3.0, 120.0, 295.0, 0.0, 2.0, 157.0, 0.0, 0.6, 1.0, 0.0, 3.0],\n",
       "  [58.0, 1.0, 4.0, 146.0, 218.0, 0.0, 0.0, 105.0, 0.0, 2.0, 2.0, 1.0, 7.0],\n",
       "  [62.0, 1.0, 2.0, 120.0, 281.0, 0.0, 2.0, 103.0, 0.0, 1.4, 2.0, 1.0, 7.0],\n",
       "  [54.0, 1.0, 4.0, 120.0, 188.0, 0.0, 0.0, 113.0, 0.0, 1.4, 2.0, 1.0, 7.0],\n",
       "  [54.0, 1.0, 4.0, 110.0, 239.0, 0.0, 0.0, 126.0, 1.0, 2.8, 2.0, 1.0, 7.0],\n",
       "  [41.0, 1.0, 2.0, 110.0, 235.0, 0.0, 0.0, 153.0, 0.0, 0.0, 1.0, 0.0, 3.0],\n",
       "  [57.0, 1.0, 3.0, 150.0, 126.0, 1.0, 0.0, 173.0, 0.0, 0.2, 1.0, 1.0, 7.0],\n",
       "  [66.0, 1.0, 4.0, 120.0, 302.0, 0.0, 2.0, 151.0, 0.0, 0.4, 2.0, 0.0, 3.0],\n",
       "  [44.0, 1.0, 4.0, 112.0, 290.0, 0.0, 2.0, 153.0, 0.0, 0.0, 1.0, 1.0, 3.0],\n",
       "  [57.0, 0.0, 2.0, 130.0, 236.0, 0.0, 2.0, 174.0, 0.0, 0.0, 2.0, 1.0, 3.0],\n",
       "  [62.0, 1.0, 2.0, 128.0, 208.0, 1.0, 2.0, 140.0, 0.0, 0.0, 1.0, 0.0, 3.0],\n",
       "  [35.0, 1.0, 2.0, 122.0, 192.0, 0.0, 0.0, 174.0, 0.0, 0.0, 1.0, 0.0, 3.0],\n",
       "  [54.0, 0.0, 3.0, 135.0, 304.0, 1.0, 0.0, 170.0, 0.0, 0.0, 1.0, 0.0, 3.0],\n",
       "  [63.0, 1.0, 4.0, 130.0, 254.0, 0.0, 2.0, 147.0, 0.0, 1.4, 2.0, 1.0, 7.0],\n",
       "  [47.0, 1.0, 3.0, 108.0, 243.0, 0.0, 0.0, 152.0, 0.0, 0.0, 1.0, 0.0, 3.0],\n",
       "  [61.0, 1.0, 4.0, 138.0, 166.0, 0.0, 2.0, 125.0, 1.0, 3.6, 2.0, 1.0, 3.0],\n",
       "  [77.0, 1.0, 4.0, 125.0, 304.0, 0.0, 2.0, 162.0, 1.0, 0.0, 1.0, 3.0, 3.0],\n",
       "  [39.0, 0.0, 3.0, 94.0, 199.0, 0.0, 0.0, 179.0, 0.0, 0.0, 1.0, 0.0, 3.0],\n",
       "  [56.0, 0.0, 4.0, 134.0, 409.0, 0.0, 2.0, 150.0, 1.0, 1.9, 2.0, 2.0, 7.0],\n",
       "  [56.0, 1.0, 2.0, 120.0, 236.0, 0.0, 0.0, 178.0, 0.0, 0.8, 1.0, 0.0, 3.0],\n",
       "  [46.0, 1.0, 4.0, 120.0, 249.0, 0.0, 2.0, 144.0, 0.0, 0.8, 1.0, 0.0, 7.0],\n",
       "  [55.0, 1.0, 4.0, 140.0, 217.0, 0.0, 0.0, 111.0, 1.0, 5.6, 3.0, 0.0, 7.0],\n",
       "  [55.0, 1.0, 2.0, 130.0, 262.0, 0.0, 0.0, 155.0, 0.0, 0.0, 1.0, 0.0, 3.0],\n",
       "  [70.0, 1.0, 2.0, 156.0, 245.0, 0.0, 2.0, 143.0, 0.0, 0.0, 1.0, 0.0, 3.0],\n",
       "  [62.0, 0.0, 4.0, 138.0, 294.0, 1.0, 0.0, 106.0, 0.0, 1.9, 2.0, 3.0, 3.0],\n",
       "  [59.0, 1.0, 1.0, 134.0, 204.0, 0.0, 0.0, 162.0, 0.0, 0.8, 1.0, 2.0, 3.0],\n",
       "  [68.0, 0.0, 3.0, 120.0, 211.0, 0.0, 2.0, 115.0, 0.0, 1.5, 2.0, 0.0, 3.0],\n",
       "  [57.0, 0.0, 4.0, 120.0, 354.0, 0.0, 0.0, 163.0, 1.0, 0.6, 1.0, 0.0, 3.0],\n",
       "  [58.0, 1.0, 3.0, 112.0, 230.0, 0.0, 2.0, 165.0, 0.0, 2.5, 2.0, 1.0, 7.0],\n",
       "  [49.0, 1.0, 3.0, 120.0, 188.0, 0.0, 0.0, 139.0, 0.0, 2.0, 2.0, 3.0, 7.0],\n",
       "  [42.0, 1.0, 2.0, 120.0, 295.0, 0.0, 0.0, 162.0, 0.0, 0.0, 1.0, 0.0, 3.0],\n",
       "  [54.0, 0.0, 3.0, 110.0, 214.0, 0.0, 0.0, 158.0, 0.0, 1.6, 2.0, 0.0, 3.0],\n",
       "  [57.0, 0.0, 4.0, 128.0, 303.0, 0.0, 2.0, 159.0, 0.0, 0.0, 1.0, 1.0, 3.0],\n",
       "  [54.0, 1.0, 4.0, 124.0, 266.0, 0.0, 2.0, 109.0, 1.0, 2.2, 2.0, 1.0, 7.0],\n",
       "  [58.0, 1.0, 4.0, 114.0, 318.0, 0.0, 1.0, 140.0, 0.0, 4.4, 3.0, 3.0, 6.0],\n",
       "  [55.0, 0.0, 4.0, 128.0, 205.0, 0.0, 1.0, 130.0, 1.0, 2.0, 2.0, 1.0, 7.0],\n",
       "  [58.0, 0.0, 3.0, 120.0, 340.0, 0.0, 0.0, 172.0, 0.0, 0.0, 1.0, 0.0, 3.0],\n",
       "  [60.0, 1.0, 3.0, 140.0, 185.0, 0.0, 2.0, 155.0, 0.0, 3.0, 2.0, 0.0, 3.0],\n",
       "  [53.0, 1.0, 4.0, 123.0, 282.0, 0.0, 0.0, 95.0, 1.0, 2.0, 2.0, 2.0, 7.0],\n",
       "  [52.0, 0.0, 3.0, 136.0, 196.0, 0.0, 2.0, 169.0, 0.0, 0.1, 2.0, 0.0, 3.0],\n",
       "  [57.0, 1.0, 4.0, 110.0, 201.0, 0.0, 0.0, 126.0, 1.0, 1.5, 2.0, 0.0, 6.0],\n",
       "  [51.0, 1.0, 1.0, 125.0, 213.0, 0.0, 2.0, 125.0, 1.0, 1.4, 1.0, 1.0, 3.0],\n",
       "  [41.0, 1.0, 2.0, 120.0, 157.0, 0.0, 0.0, 182.0, 0.0, 0.0, 1.0, 0.0, 3.0],\n",
       "  [58.0, 0.0, 4.0, 170.0, 225.0, 1.0, 2.0, 146.0, 1.0, 2.8, 2.0, 2.0, 6.0],\n",
       "  [53.0, 0.0, 4.0, 130.0, 264.0, 0.0, 2.0, 143.0, 0.0, 0.4, 2.0, 0.0, 3.0],\n",
       "  [39.0, 1.0, 4.0, 118.0, 219.0, 0.0, 0.0, 140.0, 0.0, 1.2, 2.0, 0.0, 7.0],\n",
       "  [41.0, 1.0, 3.0, 112.0, 250.0, 0.0, 0.0, 179.0, 0.0, 0.0, 1.0, 0.0, 3.0],\n",
       "  [41.0, 0.0, 3.0, 112.0, 268.0, 0.0, 2.0, 172.0, 1.0, 0.0, 1.0, 0.0, 3.0],\n",
       "  [64.0, 1.0, 1.0, 110.0, 211.0, 0.0, 2.0, 144.0, 1.0, 1.8, 2.0, 0.0, 3.0],\n",
       "  [51.0, 1.0, 3.0, 110.0, 175.0, 0.0, 0.0, 123.0, 0.0, 0.6, 1.0, 0.0, 3.0],\n",
       "  [64.0, 1.0, 4.0, 120.0, 246.0, 0.0, 2.0, 96.0, 1.0, 2.2, 3.0, 1.0, 3.0],\n",
       "  [47.0, 1.0, 4.0, 112.0, 204.0, 0.0, 0.0, 143.0, 0.0, 0.1, 1.0, 0.0, 3.0],\n",
       "  [49.0, 1.0, 3.0, 118.0, 149.0, 0.0, 2.0, 126.0, 0.0, 0.8, 1.0, 3.0, 3.0],\n",
       "  [66.0, 0.0, 1.0, 150.0, 226.0, 0.0, 0.0, 114.0, 0.0, 2.6, 3.0, 0.0, 3.0],\n",
       "  [54.0, 0.0, 3.0, 108.0, 267.0, 0.0, 2.0, 167.0, 0.0, 0.0, 1.0, 0.0, 3.0],\n",
       "  [57.0, 1.0, 2.0, 124.0, 261.0, 0.0, 0.0, 141.0, 0.0, 0.3, 1.0, 0.0, 7.0],\n",
       "  [57.0, 1.0, 4.0, 150.0, 276.0, 0.0, 2.0, 112.0, 1.0, 0.6, 2.0, 1.0, 6.0],\n",
       "  [44.0, 0.0, 3.0, 108.0, 141.0, 0.0, 0.0, 175.0, 0.0, 0.6, 2.0, 0.0, 3.0],\n",
       "  [46.0, 1.0, 2.0, 101.0, 197.0, 1.0, 0.0, 156.0, 0.0, 0.0, 1.0, 0.0, 7.0],\n",
       "  [62.0, 0.0, 4.0, 160.0, 164.0, 0.0, 2.0, 145.0, 0.0, 6.2, 3.0, 3.0, 7.0],\n",
       "  [71.0, 0.0, 4.0, 112.0, 149.0, 0.0, 0.0, 125.0, 0.0, 1.6, 2.0, 0.0, 3.0],\n",
       "  [60.0, 1.0, 4.0, 140.0, 293.0, 0.0, 2.0, 170.0, 0.0, 1.2, 2.0, 2.0, 7.0],\n",
       "  [64.0, 0.0, 4.0, 180.0, 325.0, 0.0, 0.0, 154.0, 1.0, 0.0, 1.0, 0.0, 3.0],\n",
       "  [49.0, 0.0, 4.0, 130.0, 269.0, 0.0, 0.0, 163.0, 0.0, 0.0, 1.0, 0.0, 3.0],\n",
       "  [56.0, 1.0, 4.0, 130.0, 283.0, 1.0, 2.0, 103.0, 1.0, 1.6, 3.0, 0.0, 7.0],\n",
       "  [60.0, 1.0, 4.0, 125.0, 258.0, 0.0, 2.0, 141.0, 1.0, 2.8, 2.0, 1.0, 7.0],\n",
       "  [34.0, 0.0, 2.0, 118.0, 210.0, 0.0, 0.0, 192.0, 0.0, 0.7, 1.0, 0.0, 3.0],\n",
       "  [45.0, 0.0, 2.0, 112.0, 160.0, 0.0, 0.0, 138.0, 0.0, 0.0, 2.0, 0.0, 3.0],\n",
       "  [54.0, 1.0, 4.0, 110.0, 206.0, 0.0, 2.0, 108.0, 1.0, 0.0, 2.0, 1.0, 3.0],\n",
       "  [52.0, 1.0, 2.0, 134.0, 201.0, 0.0, 0.0, 158.0, 0.0, 0.8, 1.0, 1.0, 3.0],\n",
       "  [61.0, 0.0, 4.0, 130.0, 330.0, 0.0, 2.0, 169.0, 0.0, 0.0, 1.0, 0.0, 3.0],\n",
       "  [41.0, 0.0, 2.0, 126.0, 306.0, 0.0, 0.0, 163.0, 0.0, 0.0, 1.0, 0.0, 3.0],\n",
       "  [59.0, 1.0, 1.0, 178.0, 270.0, 0.0, 2.0, 145.0, 0.0, 4.2, 3.0, 0.0, 7.0],\n",
       "  [70.0, 1.0, 3.0, 160.0, 269.0, 0.0, 0.0, 112.0, 1.0, 2.9, 2.0, 1.0, 7.0],\n",
       "  [56.0, 1.0, 4.0, 132.0, 184.0, 0.0, 2.0, 105.0, 1.0, 2.1, 2.0, 1.0, 6.0],\n",
       "  [60.0, 1.0, 4.0, 130.0, 253.0, 0.0, 0.0, 144.0, 1.0, 1.4, 1.0, 1.0, 7.0],\n",
       "  [70.0, 1.0, 4.0, 145.0, 174.0, 0.0, 0.0, 125.0, 1.0, 2.6, 3.0, 0.0, 7.0],\n",
       "  [48.0, 0.0, 3.0, 130.0, 275.0, 0.0, 0.0, 139.0, 0.0, 0.2, 1.0, 0.0, 3.0],\n",
       "  [50.0, 1.0, 3.0, 129.0, 196.0, 0.0, 0.0, 163.0, 0.0, 0.0, 1.0, 0.0, 3.0],\n",
       "  [52.0, 1.0, 4.0, 125.0, 212.0, 0.0, 0.0, 168.0, 0.0, 1.0, 1.0, 2.0, 7.0],\n",
       "  [35.0, 0.0, 4.0, 138.0, 183.0, 0.0, 0.0, 182.0, 0.0, 1.4, 1.0, 0.0, 3.0],\n",
       "  [65.0, 1.0, 4.0, 135.0, 254.0, 0.0, 2.0, 127.0, 0.0, 2.8, 2.0, 1.0, 7.0]]}"
      ]
     },
     "execution_count": 97,
     "metadata": {},
     "output_type": "execute_result"
    }
   ],
   "source": [
    "scoring_payload"
   ]
  },
  {
   "cell_type": "code",
   "execution_count": 98,
   "metadata": {},
   "outputs": [],
   "source": [
    "scoring_data = {\n",
    "            client.deployments.ScoringMetaNames.INPUT_DATA: [\n",
    "                scoring_payload\n",
    "            ]\n",
    "        }\n",
    "predictions = client.deployments.score(dep_id, scoring_data)"
   ]
  },
  {
   "cell_type": "code",
   "execution_count": 99,
   "metadata": {},
   "outputs": [
    {
     "data": {
      "text/plain": [
       "{'predictions': [{'fields': ['prediction', 'probability'],\n",
       "   'values': [[0, [0.8512809257373647, 0.1487190742626353]],\n",
       "    [0, [0.7607467745016144, 0.23925322549838557]],\n",
       "    [1, [0.24933240658653466, 0.7506675934134653]],\n",
       "    [0, [0.8566908500076501, 0.14330914999234992]],\n",
       "    [0, [0.7680418942005225, 0.2319581057994775]],\n",
       "    [0, [0.8097266445201576, 0.1902733554798424]],\n",
       "    [1, [0.37776572467779956, 0.6222342753222004]],\n",
       "    [0, [0.7648070528206659, 0.23519294717933414]],\n",
       "    [1, [0.10976962923225086, 0.8902303707677491]],\n",
       "    [0, [0.5815939971987363, 0.41840600280126367]],\n",
       "    [1, [0.3942003661562703, 0.6057996338437297]],\n",
       "    [0, [0.8430491489070361, 0.15695085109296394]],\n",
       "    [1, [0.36075298871022454, 0.6392470112897755]],\n",
       "    [1, [0.3839149996863046, 0.6160850003136954]],\n",
       "    [0, [0.8139750087911286, 0.18602499120887134]],\n",
       "    [0, [0.863990841995643, 0.13600915800435692]],\n",
       "    [1, [0.09931792080519553, 0.9006820791948045]],\n",
       "    [0, [0.8890899569910073, 0.11091004300899267]],\n",
       "    [1, [0.14399211848312576, 0.8560078815168742]],\n",
       "    [1, [0.2532658112138213, 0.7467341887861787]],\n",
       "    [1, [0.22212787910837473, 0.7778721208916253]],\n",
       "    [1, [0.0852998830406615, 0.9147001169593385]],\n",
       "    [0, [0.9151994322465231, 0.08480056775347691]],\n",
       "    [0, [0.6385426953997189, 0.36145730460028114]],\n",
       "    [0, [0.7545082965432031, 0.245491703456797]],\n",
       "    [0, [0.7384387546968632, 0.2615612453031368]],\n",
       "    [0, [0.8665097161749218, 0.13349028382507827]],\n",
       "    [0, [0.8957608665998338, 0.10423913340016623]],\n",
       "    [0, [0.9296250051361008, 0.07037499486389925]],\n",
       "    [0, [0.9447540202349477, 0.05524597976505226]],\n",
       "    [1, [0.25934094405097796, 0.740659055949022]],\n",
       "    [0, [0.892288497339891, 0.10771150266010895]],\n",
       "    [1, [0.13954267083859795, 0.860457329161402]],\n",
       "    [1, [0.25827308926712234, 0.7417269107328777]],\n",
       "    [0, [0.9548132405404051, 0.04518675945959497]],\n",
       "    [1, [0.080203157090041, 0.919796842909959]],\n",
       "    [0, [0.924126988667116, 0.07587301133288399]],\n",
       "    [1, [0.483748131239094, 0.516251868760906]],\n",
       "    [1, [0.03525876829452279, 0.9647412317054772]],\n",
       "    [0, [0.902456936076677, 0.09754306392332306]],\n",
       "    [0, [0.8291828748491076, 0.17081712515089245]],\n",
       "    [1, [0.3138239856981192, 0.6861760143018808]],\n",
       "    [0, [0.7902766188067334, 0.20972338119326664]],\n",
       "    [0, [0.7278445833984005, 0.2721554166015995]],\n",
       "    [0, [0.7385433517813343, 0.26145664821866565]],\n",
       "    [1, [0.36019915272170033, 0.6398008472782997]],\n",
       "    [1, [0.14240841854103137, 0.8575915814589686]],\n",
       "    [0, [0.917339945709323, 0.082660054290677]],\n",
       "    [0, [0.8729593208259011, 0.12704067917409886]],\n",
       "    [0, [0.7970780436336852, 0.2029219563663148]],\n",
       "    [1, [0.053942564804082105, 0.9460574351959179]],\n",
       "    [1, [0.06561248689010823, 0.9343875131098918]],\n",
       "    [1, [0.11647613516337696, 0.883523864836623]],\n",
       "    [0, [0.9359767083968025, 0.06402329160319757]],\n",
       "    [0, [0.6584141274854479, 0.3415858725145521]],\n",
       "    [1, [0.03418499210735426, 0.9658150078926457]],\n",
       "    [0, [0.8772164547583676, 0.12278354524163235]],\n",
       "    [1, [0.23044854608402954, 0.7695514539159705]],\n",
       "    [1, [0.47996831865255984, 0.5200316813474402]],\n",
       "    [0, [0.9394592676348914, 0.060540732365108575]],\n",
       "    [1, [0.08384255520381945, 0.9161574447961806]],\n",
       "    [0, [0.779697693020226, 0.22030230697977407]],\n",
       "    [1, [0.43484443631048075, 0.5651555636895192]],\n",
       "    [0, [0.9227837345417133, 0.07721626545828679]],\n",
       "    [0, [0.8093520243815874, 0.19064797561841262]],\n",
       "    [0, [0.6344443979472669, 0.36555560205273313]],\n",
       "    [0, [0.8208955343532355, 0.17910446564676452]],\n",
       "    [1, [0.11476657911942534, 0.8852334208805747]],\n",
       "    [0, [0.8376092910280472, 0.16239070897195287]],\n",
       "    [1, [0.40382228636006945, 0.5961777136399306]],\n",
       "    [0, [0.7104084386734683, 0.28959156132653174]],\n",
       "    [0, [0.9248986750212419, 0.07510132497875811]],\n",
       "    [0, [0.6815932508658167, 0.3184067491341834]],\n",
       "    [1, [0.08398281704085941, 0.9160171829591406]],\n",
       "    [0, [0.9202552485609949, 0.07974475143900502]],\n",
       "    [0, [0.8364205764385301, 0.16357942356146996]],\n",
       "    [1, [0.029992604067783035, 0.970007395932217]],\n",
       "    [0, [0.7611490414467306, 0.23885095855326946]],\n",
       "    [1, [0.21487861289958543, 0.7851213871004146]],\n",
       "    [0, [0.6105654499661207, 0.3894345500338793]],\n",
       "    [0, [0.8968522998486737, 0.10314770015132639]],\n",
       "    [1, [0.09290318847166801, 0.907096811528332]],\n",
       "    [1, [0.07520117635267498, 0.924798823647325]],\n",
       "    [0, [0.9573016687266028, 0.04269833127339713]],\n",
       "    [0, [0.9046312207677649, 0.09536877923223508]],\n",
       "    [1, [0.2759678437577029, 0.7240321562422971]],\n",
       "    [0, [0.8193567386564031, 0.1806432613435969]],\n",
       "    [0, [0.8849544088590772, 0.11504559114092282]],\n",
       "    [0, [0.9392421786166314, 0.06075782138336864]],\n",
       "    [1, [0.24048976794972254, 0.7595102320502775]],\n",
       "    [1, [0.05614568148822341, 0.9438543185117766]],\n",
       "    [1, [0.065715833242177, 0.934284166757823]],\n",
       "    [1, [0.15721338770945525, 0.8427866122905447]],\n",
       "    [1, [0.08327974383623027, 0.9167202561637697]],\n",
       "    [0, [0.8827059026240526, 0.11729409737594747]],\n",
       "    [0, [0.8895229594602971, 0.11047704053970281]],\n",
       "    [1, [0.34913823120259313, 0.6508617687974069]],\n",
       "    [0, [0.8847039504038609, 0.11529604959613916]],\n",
       "    [1, [0.14949878471783518, 0.8505012152821648]]]}]}"
      ]
     },
     "execution_count": 99,
     "metadata": {},
     "output_type": "execute_result"
    }
   ],
   "source": [
    "predictions"
   ]
  },
  {
   "cell_type": "code",
   "execution_count": 100,
   "metadata": {},
   "outputs": [
    {
     "name": "stdout",
     "output_type": "stream",
     "text": [
      "--------------  ----------  ----  ------------------------------------\n",
      "NAME            ASSET_TYPE  SIZE  ASSET_ID\n",
      "heart_test.csv  data_asset  6197  6f33a06a-d68e-4ab7-a2c9-78fc07479dd6\n",
      "--------------  ----------  ----  ------------------------------------\n"
     ]
    }
   ],
   "source": [
    "client.data_assets.list()"
   ]
  },
  {
   "cell_type": "markdown",
   "metadata": {},
   "source": [
    "# Batch Scoring"
   ]
  },
  {
   "cell_type": "code",
   "execution_count": 101,
   "metadata": {},
   "outputs": [
    {
     "name": "stdout",
     "output_type": "stream",
     "text": [
      "\n",
      "\n",
      "#######################################################################################\n",
      "\n",
      "Synchronous deployment creation for uid: 'c393e3c2-77af-45e3-b86f-f72c0a794525' started\n",
      "\n",
      "#######################################################################################\n",
      "\n",
      "\n",
      "ready.\n",
      "\n",
      "\n",
      "------------------------------------------------------------------------------------------------\n",
      "Successfully finished deployment creation, deployment_uid='81650c94-6459-4b10-8b77-bc8f6b9740f4'\n",
      "------------------------------------------------------------------------------------------------\n",
      "\n",
      "\n"
     ]
    }
   ],
   "source": [
    "dep_details = client.deployments.create(artifact_uid=model_uid,meta_props={\n",
    "                client.deployments.ConfigurationMetaNames.NAME:\"scikit_batch_score\",\n",
    "                client.deployments.ConfigurationMetaNames.BATCH:{},\n",
    "                client.deployments.ConfigurationMetaNames.COMPUTE:{\"name\":\"S\",\"nodes\":1}\n",
    " })"
   ]
  },
  {
   "cell_type": "code",
   "execution_count": 102,
   "metadata": {},
   "outputs": [],
   "source": [
    "dep_id = client.deployments.get_uid(dep_details)"
   ]
  },
  {
   "cell_type": "code",
   "execution_count": 103,
   "metadata": {},
   "outputs": [
    {
     "data": {
      "text/plain": [
       "'81650c94-6459-4b10-8b77-bc8f6b9740f4'"
      ]
     },
     "execution_count": 103,
     "metadata": {},
     "output_type": "execute_result"
    }
   ],
   "source": [
    "dep_id"
   ]
  },
  {
   "cell_type": "code",
   "execution_count": 104,
   "metadata": {},
   "outputs": [
    {
     "name": "stdout",
     "output_type": "stream",
     "text": [
      "------------------  ----------  ----  ------------------------------------\n",
      "NAME                ASSET_TYPE  SIZE  ASSET_ID\n",
      "heart_test.csv      data_asset  6197  6f33a06a-d68e-4ab7-a2c9-78fc07479dd6\n",
      "MyAsset_heart_data  data_asset  6197  89528d46-a316-487e-8291-bdb13c8aac23\n",
      "------------------  ----------  ----  ------------------------------------\n"
     ]
    }
   ],
   "source": [
    "client.data_assets.list()"
   ]
  },
  {
   "cell_type": "code",
   "execution_count": 105,
   "metadata": {},
   "outputs": [],
   "source": [
    "asset_details = client.data_assets.get_details(\"6f33a06a-d68e-4ab7-a2c9-78fc07479dd6\")"
   ]
  },
  {
   "cell_type": "code",
   "execution_count": 106,
   "metadata": {},
   "outputs": [],
   "source": [
    "asset_href = client.data_assets.get_href(asset_details)"
   ]
  },
  {
   "cell_type": "markdown",
   "metadata": {},
   "source": [
    "# CREATE JOB"
   ]
  },
  {
   "cell_type": "code",
   "execution_count": 107,
   "metadata": {},
   "outputs": [],
   "source": [
    "job_payload_ref = {\n",
    "    client.deployments.ScoringMetaNames.INPUT_DATA_REFERENCES: [{\n",
    "        \"id\": \"1234\",\n",
    "        \"name\": \"test_ref_input\",\n",
    "        \"type\": \"data_asset\",\n",
    "        \"connection\": {},\n",
    "        \"location\": {\n",
    "            \"href\": asset_href\n",
    "        },\n",
    "        \"schema\": {}\n",
    "    }],\n",
    "    client.deployments.ScoringMetaNames.OUTPUT_DATA_REFERENCE: {\n",
    "            \"type\": \"data_asset\",\n",
    "            \"connection\": {},\n",
    "            \"location\": {\n",
    "                \"name\": \"sk_learn_results_{}.csv\".format(dep_id),\n",
    "                \"description\": \"testing zip results\"\n",
    "            }\n",
    "        }\n",
    "    }"
   ]
  },
  {
   "cell_type": "code",
   "execution_count": 108,
   "metadata": {},
   "outputs": [],
   "source": [
    "job = client.deployments.create_job(deployment_id=dep_id,meta_props=job_payload_ref)"
   ]
  },
  {
   "cell_type": "code",
   "execution_count": 109,
   "metadata": {},
   "outputs": [],
   "source": [
    "job_id = client.deployments.get_job_uid(job)"
   ]
  },
  {
   "cell_type": "code",
   "execution_count": 111,
   "metadata": {},
   "outputs": [
    {
     "data": {
      "text/plain": [
       "{'state': 'completed',\n",
       " 'running_at': '2019-11-21T17:40:07.357731Z',\n",
       " 'completed_at': '2019-11-21T17:40:08.224678Z'}"
      ]
     },
     "execution_count": 111,
     "metadata": {},
     "output_type": "execute_result"
    }
   ],
   "source": [
    "client.deployments.get_job_status(job_id)"
   ]
  },
  {
   "cell_type": "code",
   "execution_count": 112,
   "metadata": {},
   "outputs": [
    {
     "name": "stdout",
     "output_type": "stream",
     "text": [
      "---------------------------------------------------------  ----------  ----  ------------------------------------\n",
      "NAME                                                       ASSET_TYPE  SIZE  ASSET_ID\n",
      "heart_test.csv                                             data_asset  6197  6f33a06a-d68e-4ab7-a2c9-78fc07479dd6\n",
      "MyAsset_heart_data                                         data_asset  6197  89528d46-a316-487e-8291-bdb13c8aac23\n",
      "sk_learn_results_81650c94-6459-4b10-8b77-bc8f6b9740f4.csv  data_asset  4527  5ea79cc9-980a-4607-9668-8875424558bd\n",
      "---------------------------------------------------------  ----------  ----  ------------------------------------\n"
     ]
    }
   ],
   "source": [
    "client.data_assets.list()"
   ]
  },
  {
   "cell_type": "code",
   "execution_count": 113,
   "metadata": {},
   "outputs": [
    {
     "name": "stdout",
     "output_type": "stream",
     "text": [
      "Successfully saved asset content to file: 'sk_learn_results.csv'\n"
     ]
    },
    {
     "data": {
      "text/plain": [
       "'/home/wsuser/work/sk_learn_results.csv'"
      ]
     },
     "execution_count": 113,
     "metadata": {},
     "output_type": "execute_result"
    }
   ],
   "source": [
    "client.data_assets.download(asset_uid=\"5ea79cc9-980a-4607-9668-8875424558bd\",filename=\"sk_learn_results.csv\")"
   ]
  },
  {
   "cell_type": "code",
   "execution_count": 51,
   "metadata": {},
   "outputs": [
    {
     "name": "stdout",
     "output_type": "stream",
     "text": [
      "---------------------------------------------------------  ----------  ----  ------------------------------------\n",
      "NAME                                                       ASSET_TYPE  SIZE  ASSET_ID\n",
      "heart_test.csv                                             data_asset  6197  6f33a06a-d68e-4ab7-a2c9-78fc07479dd6\n",
      "sk_learn_results_ebca06d3-6497-4018-8571-8c887309503d.csv  data_asset  4527  174a7302-7515-4e40-a5a7-e13e55515291\n",
      "---------------------------------------------------------  ----------  ----  ------------------------------------\n"
     ]
    }
   ],
   "source": [
    "client.data_assets.list()"
   ]
  },
  {
   "cell_type": "code",
   "execution_count": 52,
   "metadata": {},
   "outputs": [
    {
     "data": {
      "text/plain": [
       "'SUCCESS'"
      ]
     },
     "execution_count": 52,
     "metadata": {},
     "output_type": "execute_result"
    }
   ],
   "source": [
    "client.data_assets.delete(asset_uid=\"174a7302-7515-4e40-a5a7-e13e55515291\")"
   ]
  },
  {
   "cell_type": "code",
   "execution_count": 53,
   "metadata": {},
   "outputs": [
    {
     "name": "stdout",
     "output_type": "stream",
     "text": [
      "ls: cannot access heart_data.csv: No such file or directory\r\n"
     ]
    }
   ],
   "source": [
    "!ls heart_data.csv"
   ]
  },
  {
   "cell_type": "code",
   "execution_count": 106,
   "metadata": {},
   "outputs": [],
   "source": [
    "!cp processed.cleveland.data processed_data.csv"
   ]
  },
  {
   "cell_type": "code",
   "execution_count": 11,
   "metadata": {},
   "outputs": [
    {
     "data": {
      "text/plain": [
       "'SUCCESS'"
      ]
     },
     "execution_count": 11,
     "metadata": {},
     "output_type": "execute_result"
    }
   ],
   "source": [
    "client.set.default_project(\"6691f5c8-e78d-48b7-9265-b263febeb21a\")"
   ]
  },
  {
   "cell_type": "code",
   "execution_count": 12,
   "metadata": {},
   "outputs": [
    {
     "name": "stdout",
     "output_type": "stream",
     "text": [
      "--------------  ----------  ----  ------------------------------------\n",
      "NAME            ASSET_TYPE  SIZE  ASSET_ID\n",
      "heart_test.csv  data_asset  6197  a8b6d2b5-c5c7-45ee-a521-43c7669a9c2d\n",
      "--------------  ----------  ----  ------------------------------------\n"
     ]
    }
   ],
   "source": [
    "client.data_assets.list()"
   ]
  },
  {
   "cell_type": "code",
   "execution_count": 20,
   "metadata": {},
   "outputs": [
    {
     "name": "stdout",
     "output_type": "stream",
     "text": [
      "------------------------------------  -------------  ------------------------\n",
      "GUID                                  NAME           CREATED\n",
      "bc08fa02-bd5c-4ae4-bb8b-59c62b0b2fc0  checkpy_test1  2019-10-10T06:57:29.929Z\n",
      "fae96817-a6a3-48b2-96d4-bd0540080daf  checkpy        2019-10-05T14:06:29.134Z\n",
      "------------------------------------  -------------  ------------------------\n"
     ]
    }
   ],
   "source": [
    "client.spaces.list()"
   ]
  },
  {
   "cell_type": "markdown",
   "metadata": {},
   "source": [
    "# Create a data assets in a space"
   ]
  },
  {
   "cell_type": "code",
   "execution_count": 21,
   "metadata": {},
   "outputs": [
    {
     "name": "stdout",
     "output_type": "stream",
     "text": [
      "Unsetting the project_id ...\n"
     ]
    },
    {
     "data": {
      "text/plain": [
       "'SUCCESS'"
      ]
     },
     "execution_count": 21,
     "metadata": {},
     "output_type": "execute_result"
    }
   ],
   "source": [
    "client.set.default_space(\"fae96817-a6a3-48b2-96d4-bd0540080daf\")"
   ]
  },
  {
   "cell_type": "code",
   "execution_count": 22,
   "metadata": {},
   "outputs": [
    {
     "name": "stdout",
     "output_type": "stream",
     "text": [
      "Creating data asset...\n",
      "SUCCESS\n"
     ]
    }
   ],
   "source": [
    "asset_details = client.data_assets.create(name=\"MyAsset_heart_data\",file_path=\"heart_data.csv\")"
   ]
  },
  {
   "cell_type": "code",
   "execution_count": 23,
   "metadata": {},
   "outputs": [],
   "source": [
    "asset_uid = client.data_assets.get_uid(asset_details)"
   ]
  },
  {
   "cell_type": "code",
   "execution_count": 34,
   "metadata": {},
   "outputs": [
    {
     "name": "stdout",
     "output_type": "stream",
     "text": [
      "-----------------------------------------------------------  ----------  ----  ------------------------------------\n",
      "NAME                                                         ASSET_TYPE  SIZE  ASSET_ID\n",
      "MyAsset_heart_data                                           data_asset  6197  9bbc0f70-7fee-47f0-a3e2-f120337b0e2f\n",
      "sk_learn_results_1_411e2392-8fbf-4680-9336-56a22daeac93.csv  data_asset  4532  9267cf9f-9854-423d-8edc-361e5b038365\n",
      "heart_test.csv                                               data_asset  6197  b5016049-3467-42fa-8da8-67f6eb626edf\n",
      "sk_learn_results_a8de5c0d-773b-4e06-b943-d579e4edd659.csv    data_asset  4532  d4a9e154-9c97-49df-976f-8fcee1f1efcd\n",
      "MyAsset_heart_data                                           data_asset  6197  f9d595cf-f4df-4213-a5b5-e33143ee53ea\n",
      "-----------------------------------------------------------  ----------  ----  ------------------------------------\n"
     ]
    }
   ],
   "source": [
    "client.data_assets.list()"
   ]
  },
  {
   "cell_type": "code",
   "execution_count": 30,
   "metadata": {},
   "outputs": [
    {
     "data": {
      "text/plain": [
       "'SUCCESS'"
      ]
     },
     "execution_count": 30,
     "metadata": {},
     "output_type": "execute_result"
    }
   ],
   "source": [
    "client.data_assets.delete(\"e748490e-7339-4de9-a84d-99af60ae440c\")"
   ]
  },
  {
   "cell_type": "markdown",
   "metadata": {},
   "source": [
    "# Example for Downloading model "
   ]
  },
  {
   "cell_type": "code",
   "execution_count": 120,
   "metadata": {},
   "outputs": [
    {
     "name": "stdout",
     "output_type": "stream",
     "text": [
      "Successfully saved model content to file: 'scikit_scikit-learn_0.20'\n"
     ]
    },
    {
     "data": {
      "text/plain": [
       "'/home/wsuser/work/scikit_scikit-learn_0.20'"
      ]
     },
     "execution_count": 120,
     "metadata": {},
     "output_type": "execute_result"
    }
   ],
   "source": [
    "client.repository.download(\"db7e4671-1275-4d82-b1b8-34213a43f353\",filename=\"scikit_scikit-learn_0.20\")"
   ]
  },
  {
   "cell_type": "markdown",
   "metadata": {},
   "source": [
    "# Initialise client to point to another cluster"
   ]
  },
  {
   "cell_type": "code",
   "execution_count": null,
   "metadata": {},
   "outputs": [],
   "source": [
    "wml_credentials = {\n",
    "    \"token\" : token,\n",
    "    \"instance_id\" : \"wml_local\",\n",
    "    \"url\": \"https://some-other-cluster.apps.cp4dfvt-lb-1.fyre.ibm.com\",\n",
    "    \"version\": \"2.5.0\"\n",
    "}\n",
    "\n",
    "from watson_machine_learning_client import WatsonMachineLearningAPIClient\n",
    "\n",
    "client_other_cluster = WatsonMachineLearningAPIClient(wml_credentials)"
   ]
  },
  {
   "cell_type": "markdown",
   "metadata": {},
   "source": [
    "# Save the model from the downloaded file to another cluster"
   ]
  },
  {
   "cell_type": "code",
   "execution_count": null,
   "metadata": {},
   "outputs": [],
   "source": [
    "client_other_cluster.set.default_space(\"space-id\")"
   ]
  },
  {
   "cell_type": "code",
   "execution_count": null,
   "metadata": {},
   "outputs": [],
   "source": [
    "meta_props={\n",
    "     client_other_cluster.repository.ModelMetaNames.NAME: \"skl_pipeline_heart_problem_prediction_nov20\",\n",
    "     client_other_cluster.repository.ModelMetaNames.RUNTIME_UID: \"scikit-learn_0.20-py3\",\n",
    "     client_other_cluster.repository.ModelMetaNames.TYPE: \"scikit-learn_0.20\"\n",
    "\n",
    "}"
   ]
  },
  {
   "cell_type": "code",
   "execution_count": null,
   "metadata": {},
   "outputs": [],
   "source": [
    "\n",
    "\n",
    "\n",
    "model_artifact = client_other_cluster.repository.store_model(model=\"/home/wsuser/work/scikit_scikit-learn_0.20\",\n",
    "                                                   meta_props=meta_props\n",
    "                             )"
   ]
  }
 ],
 "metadata": {
  "kernelspec": {
   "display_name": "Python 3.6",
   "language": "python",
   "name": "python3"
  },
  "language_info": {
   "codemirror_mode": {
    "name": "ipython",
    "version": 3
   },
   "file_extension": ".py",
   "mimetype": "text/x-python",
   "name": "python",
   "nbconvert_exporter": "python",
   "pygments_lexer": "ipython3",
   "version": "3.6.8"
  }
 },
 "nbformat": 4,
 "nbformat_minor": 2
}
